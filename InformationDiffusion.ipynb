{
 "cells": [
  {
   "cell_type": "code",
   "execution_count": 5,
   "metadata": {},
   "outputs": [],
   "source": [
    "import networkx as nx\n",
    "\n",
    "## To calculate theta\n",
    "def calculate_threshold(user_graph):     \n",
    "    degree  = 0\n",
    "    for e in user_graph:\n",
    "        degree += e\n",
    "    return degree/len(user_graph)\n",
    "\n",
    "## returns a true/false list of activated nodes \n",
    "## a node is active if it's in-degree >= theta\n",
    "def active_path(user_graph):\n",
    "    theta = calculate_threshold(user_graph)\n",
    "    active_graph = []\n",
    "    l = len(user_graph)\n",
    "    for i in range(0,l):\n",
    "        active_graph.append(False)\n",
    "        if(user_graph[i]>=theta):\n",
    "            active_graph[i]=True\n",
    "    return active_graph\n",
    "\n",
    "\n",
    "## reads a file containing adjacency matrix of a graph\n",
    "## only reads the in-degrees of the nodes\n",
    "def get_matrix(file):\n",
    "    file = open(file,'r') \n",
    "    data = file.read() \n",
    "    data = data.split(\"\\n\") \n",
    "    matrix = [] \n",
    "    for d in data: \n",
    "        m = [] \n",
    "        for e in d: \n",
    "            m.append(e) \n",
    "        matrix.append(m)\n",
    "    file.close()\n",
    "    return matrix\n",
    "\n",
    "## takes the adjacency matrix read from file using get_matrix()\n",
    "## returns the list of in-degrees of individual nodes\n",
    "def calculate_degrees(matrix):\n",
    "    degree_list = []\n",
    "    for row in matrix:\n",
    "        c = 0\n",
    "        for element in row:\n",
    "            if element == '1':                \n",
    "                c += 1\n",
    "        degree_list.append(c)\n",
    "    return degree_list"
   ]
  },
  {
   "cell_type": "code",
   "execution_count": 43,
   "metadata": {},
   "outputs": [
    {
     "data": {
      "image/png": "[encoded data removed]",
      "text/plain": [
       "<Figure size 432x288 with 1 Axes>"
      ]
     },
     "metadata": {},
     "output_type": "display_data"
    }
   ],
   "source": [
    "\n",
    "matrix = get_matrix('datasets/dataset1.txt')  # makes the matrix from file\n",
    "dlist = calculate_degrees(matrix) # list of the degree of each node\n",
    "activated_nodes = active_path(dlist) # true/false list of activated nodes\n",
    "\n",
    "\n",
    "\n",
    "\n",
    "## adds one row on top  and one column on left of the matrix read from file \n",
    "## in order to make the user graph start from 1 instead of 0 \n",
    "## final matrix will be new_matrix\n",
    "temp_matrix = []\n",
    "l = len(matrix)\n",
    "\n",
    "for i in range(0,l):  # to add a '0' as first column of each row in matrix\n",
    "    m = [\"0\"]    \n",
    "    for j in range (0,l):\n",
    "        m.append(matrix[i][j])    \n",
    "    temp_matrix.append(m)\n",
    "\n",
    "    \n",
    "top_row = []\n",
    "for i in range(0,l+1):  # makes a '0' row to be added on top of matrix\n",
    "    top_row.append(\"0\")\n",
    "new_matrix = [top_row]  # adds top row to the new matrix\n",
    "for i in range(0,l):\n",
    "    new_matrix.append(temp_matrix[i]) # appends the rest of matrix to the new_matrix\n",
    "\n",
    "#draws the graph of orignial matrix\n",
    "# isolated nodes are not displayed\n",
    "g = nx.Graph()\n",
    "l = len(new_matrix) \n",
    "for i in range(0,l):\n",
    "    for j in range(0,l):        \n",
    "        if(new_matrix[i][j]==\"1\"):\n",
    "            g.add_edge(i,j)\n",
    "nx.draw(g,with_labels=1)\n",
    "   \n"
   ]
  },
  {
   "cell_type": "code",
   "execution_count": 49,
   "metadata": {},
   "outputs": [
    {
     "name": "stdout",
     "output_type": "stream",
     "text": [
      "[False, True, False, True, True, False, True, False, True, False, True, False, True, False, True, True]\n"
     ]
    },
    {
     "data": {
      "image/png": "[encoded data removed]",
      "text/plain": [
       "<Figure size 432x288 with 1 Axes>"
      ]
     },
     "metadata": {},
     "output_type": "display_data"
    }
   ],
   "source": [
    "#draws the graph of only activated nodes\n",
    "\n",
    "\n",
    "# to check if there are more than one nodes in the activated graph\n",
    "count = 0\n",
    "index = 0\n",
    "print(activated_nodes)\n",
    "for i in range(0,len(activated_nodes)):\n",
    "    if activated_nodes[i]:\n",
    "        index = i\n",
    "        count += 1\n",
    "\n",
    "g = nx.Graph()\n",
    "if(count==1): #if there is only one node in the activated graph\n",
    "    g.add_node(index+1)\n",
    "else:\n",
    "    l = len(new_matrix)\n",
    "    for i in range(0,l):\n",
    "        for j in range(0,l):        \n",
    "            if(new_matrix[i][j]==\"1\"):\n",
    "                if activated_nodes[i-1] & activated_nodes[j-1]:\n",
    "                    g.add_edge(i,j)\n",
    "nx.draw(g,with_labels=1)\n",
    "\n",
    "\n"
   ]
  },
  {
   "cell_type": "code",
   "execution_count": null,
   "metadata": {},
   "outputs": [],
   "source": []
  }
 ],
 "metadata": {
  "celltoolbar": "Edit Metadata",
  "kernelspec": {
   "display_name": "Python 3",
   "language": "python",
   "name": "python3"
  },
  "language_info": {
   "codemirror_mode": {
    "name": "ipython",
    "version": 3
   },
   "file_extension": ".py",
   "mimetype": "text/x-python",
   "name": "python",
   "nbconvert_exporter": "python",
   "pygments_lexer": "ipython3",
   "version": "3.7.3"
  }
 },
 "nbformat": 4,
 "nbformat_minor": 2
}
